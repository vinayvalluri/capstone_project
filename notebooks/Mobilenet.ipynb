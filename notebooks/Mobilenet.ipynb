{
 "cells": [
  {
   "cell_type": "code",
   "execution_count": 2,
   "metadata": {},
   "outputs": [],
   "source": [
    "import tensorflow as tf\n",
    "import numpy as np\n",
    "import pandas as pd\n",
    "import matplotlib.pyplot as plt\n",
    "import cv2\n",
    "\n",
    "from tqdm.cli import tqdm\n",
    "from glob import glob\n",
    "from sklearn.manifold import TSNE\n",
    "from os import path as pathlib,walk\n",
    "\n",
    "%matplotlib inline"
   ]
  },
  {
   "cell_type": "code",
   "execution_count": 12,
   "metadata": {},
   "outputs": [],
   "source": [
    "class Dataset(object):\n",
    "    \"\"\"\n",
    "    Dataset wrapper to read images from folder and structure it.\n",
    "    \"\"\"\n",
    "    def __init__(self,path,n_faces,resize=128):\n",
    "        self.path = pathlib.abspath(path)\n",
    "        self.resize = resize\n",
    "\n",
    "    def __repr__(self,):\n",
    "        return f\"Dataset Parser @ {self.path}\"\n",
    "        \n",
    "    def parse(self,progress_bar=True):\n",
    "        w = walk(self.path)\n",
    "        self.data = np.array([[[r,pathlib.join(r,f_)] for f_ in f] for r,_,f in list(w)[1:]]).reshape(-1,2)\n",
    "        self.y = np.array(self.data[:,0])\n",
    "        self.x = np.array([\n",
    "            cv2.cvtColor(\n",
    "                cv2.resize(\n",
    "                    cv2.imread(\n",
    "                        i\n",
    "                    ),\n",
    "                    (self.resize,self.resize)\n",
    "                ),\n",
    "                cv2.COLOR_BGR2RGB\n",
    "            ) / 255\n",
    "            for \n",
    "                i\n",
    "            in \n",
    "                (tqdm(self.data[:,1]) if progress_bar else self.data[:,1])\n",
    "        ]).astype(np.float32)\n",
    "        return self\n",
    "                "
   ]
  },
  {
   "cell_type": "code",
   "execution_count": 13,
   "metadata": {},
   "outputs": [
    {
     "name": "stderr",
     "output_type": "stream",
     "text": [
      "100%|█████████████████████████████████████████████████████████████████████████████████████████████████████████████████████████████████████████████████████████████████████████████████████████████████████| 600/600 [00:00<00:00, 1408.24it/s]\n"
     ]
    },
    {
     "data": {
      "text/plain": [
       "Dataset Parser @ C:\\workspace\\facedet\\notebooks\\images\\train"
      ]
     },
     "execution_count": 13,
     "metadata": {},
     "output_type": "execute_result"
    }
   ],
   "source": [
    "dataset = Dataset(\"./images/train/\",100)\n",
    "dataset.parse(progress_bar=1)"
   ]
  },
  {
   "cell_type": "code",
   "execution_count": 14,
   "metadata": {},
   "outputs": [
    {
     "name": "stdout",
     "output_type": "stream",
     "text": [
      "WARNING:tensorflow:`input_shape` is undefined or non-square, or `rows` is not in [128, 160, 192, 224]. Weights for input shape (224, 224) will be loaded as the default.\n"
     ]
    }
   ],
   "source": [
    "im_in = tf.keras.layers.Input( shape=( 128, 128, 3) )\n",
    "\n",
    "net = tf.keras.applications.MobileNet(include_top=False, weights='imagenet', input_tensor=im_in)\n",
    "\n",
    "out = tf.keras.layers.GlobalAveragePooling2D()(net.output)\n",
    "out = tf.keras.layers.experimental.RandomFourierFeatures(output_dim=64, scale=64, kernel_initializer='gaussian')(out)\n",
    "\n",
    "model = tf.keras.Model( im_in, out )"
   ]
  },
  {
   "cell_type": "code",
   "execution_count": 21,
   "metadata": {},
   "outputs": [
    {
     "name": "stdout",
     "output_type": "stream",
     "text": [
      "INFO:tensorflow:Assets written to: ./model/assets\n"
     ]
    }
   ],
   "source": [
    "model.save(\"./model/\")"
   ]
  },
  {
   "cell_type": "code",
   "execution_count": null,
   "metadata": {},
   "outputs": [],
   "source": []
  }
 ],
 "metadata": {
  "kernelspec": {
   "display_name": "Python 3",
   "language": "python",
   "name": "python3"
  },
  "language_info": {
   "codemirror_mode": {
    "name": "ipython",
    "version": 3
   },
   "file_extension": ".py",
   "mimetype": "text/x-python",
   "name": "python",
   "nbconvert_exporter": "python",
   "pygments_lexer": "ipython3",
   "version": "3.8.0"
  }
 },
 "nbformat": 4,
 "nbformat_minor": 4
}
